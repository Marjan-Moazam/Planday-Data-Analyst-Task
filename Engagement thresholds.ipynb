{
 "cells": [
  {
   "cell_type": "code",
   "execution_count": 5,
   "id": "c5879783",
   "metadata": {},
   "outputs": [
    {
     "name": "stderr",
     "output_type": "stream",
     "text": [
      "\n",
      "[notice] A new release of pip is available: 25.0.1 -> 25.2\n",
      "[notice] To update, run: python.exe -m pip install --upgrade pip\n"
     ]
    }
   ],
   "source": [
    "!pip install --quiet scikit-learn\n"
   ]
  },
  {
   "cell_type": "code",
   "execution_count": null,
   "id": "75c999f8",
   "metadata": {},
   "outputs": [
    {
     "name": "stdout",
     "output_type": "stream",
     "text": [
      "Cluster centers (raw scale): [321.66   2.44  20.24]\n",
      "Thresholds: {'Weakly engaged': 'EVENTS ≤ 7', 'Engaged': '8 ≤ EVENTS ≤ 78', 'Very engaged': 'EVENTS > 78'}\n"
     ]
    }
   ],
   "source": [
    "# !pip install -q scikit-learn\n",
    "\n",
    "import numpy as np\n",
    "import pandas as pd\n",
    "from sklearn.cluster import KMeans\n",
    "\n",
    "# --- Load data ---\n",
    "df = pd.read_csv(\"Silver/events_clean.csv\")\n",
    "\n",
    "# --- Build a numeric Series of counts called `events` ---\n",
    "if \"EVENTS\" in df.columns:\n",
    "    events = pd.to_numeric(df[\"EVENTS\"], errors=\"coerce\")\n",
    "else:\n",
    "    org_col_candidates = [\n",
    "        c\n",
    "        for c in df.columns\n",
    "        if c.upper() in {\"ORGANIZATION_ID\", \"ORG_ID\", \"ACCOUNT_ID\", \"CUSTOMER_ID\"}\n",
    "    ]\n",
    "    if not org_col_candidates:\n",
    "        raise ValueError(\n",
    "            \"Could not find an organization-id column or an 'EVENTS' column.\"\n",
    "        )\n",
    "    org_col = org_col_candidates[0]\n",
    "    events = df.groupby(org_col, dropna=False).size().rename(\"EVENTS\").astype(\"Int64\")\n",
    "\n",
    "# clean up: drop NaNs/negatives, convert to int\n",
    "events = events.dropna()\n",
    "events = events[events >= 0].astype(int)\n",
    "\n",
    "# --- Log-KMeans on counts (handles heavy skew) ---\n",
    "X = np.log1p(events.to_numpy().reshape(-1, 1))\n",
    "kmeans = KMeans(n_clusters=3, random_state=42, n_init=50)\n",
    "labels = kmeans.fit_predict(X)\n",
    "\n",
    "# order clusters by raw-scale centers => weak < engaged < very engaged\n",
    "centers_raw = np.expm1(kmeans.cluster_centers_.ravel())\n",
    "order = np.argsort(centers_raw)\n",
    "label_map = {order[0]: \"Weakly engaged\", order[1]: \"Engaged\", order[2]: \"Very engaged\"}\n",
    "\n",
    "seg = pd.Series(labels, index=events.index).map(label_map)\n",
    "\n",
    "# --- Cut points on RAW counts ---\n",
    "weak_max = int(events[seg == \"Weakly engaged\"].max())\n",
    "engaged_max = int(events[seg == \"Engaged\"].max())\n",
    "\n",
    "thresholds = {\n",
    "    \"Weakly engaged\": f\"EVENTS ≤ {weak_max}\",\n",
    "    \"Engaged\": f\"{weak_max+1} ≤ EVENTS ≤ {engaged_max}\",\n",
    "    \"Very engaged\": f\"EVENTS > {engaged_max}\",\n",
    "}\n",
    "\n",
    "print(\"Cluster centers (raw scale):\", np.round(centers_raw, 2))\n",
    "print(\"Thresholds:\", thresholds)\n",
    "\n",
    "# Optional: save per-org segments\n",
    "out = pd.DataFrame({\"EVENTS\": events, \"SEGMENT\": seg})\n",
    "out.to_csv(\"engagement_segments.csv\", index=True)"
   ]
  }
 ],
 "metadata": {
  "kernelspec": {
   "display_name": "PlandayEnv",
   "language": "python",
   "name": "python3"
  },
  "language_info": {
   "codemirror_mode": {
    "name": "ipython",
    "version": 3
   },
   "file_extension": ".py",
   "mimetype": "text/x-python",
   "name": "python",
   "nbconvert_exporter": "python",
   "pygments_lexer": "ipython3",
   "version": "3.12.10"
  }
 },
 "nbformat": 4,
 "nbformat_minor": 5
}
