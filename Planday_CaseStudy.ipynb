{
 "cells": [
  {
   "cell_type": "code",
   "execution_count": null,
   "id": "da33d377",
   "metadata": {},
   "outputs": [],
   "source": [
    "# EDA + Cleaning + Descriptives for Planday Case Study\n",
    "# ------------------------------------------------------------\n",
    "# Input : \"DA task.csv\" (events-level)\n",
    "# Output: Multiple CSVs for Power BI\n",
    "# ------------------------------------------------------------\n",
    "\n",
    "import pandas as pd\n",
    "import numpy as np\n",
    "from pathlib import Path\n",
    "import matplotlib.pyplot as plt\n",
    "import seaborn as sns"
   ]
  },
  {
   "cell_type": "code",
   "execution_count": 8,
   "id": "9cf36ff8",
   "metadata": {},
   "outputs": [],
   "source": [
    "df = pd.read_csv(\"Bronze/DA task.csv\")"
   ]
  },
  {
   "cell_type": "code",
   "execution_count": 171,
   "id": "ff51af77",
   "metadata": {},
   "outputs": [
    {
     "data": {
      "application/vnd.microsoft.datawrangler.viewer.v0+json": {
       "columns": [
        {
         "name": "index",
         "rawType": "object",
         "type": "string"
        },
        {
         "name": "0",
         "rawType": "object",
         "type": "unknown"
        }
       ],
       "ref": "54ac8272-241a-4478-8007-0c82632b85e0",
       "rows": [
        [
         "ORGANIZATION_ID",
         "object"
        ],
        [
         "ACTIVITY_NAME",
         "object"
        ],
        [
         "TIMESTAMP",
         "object"
        ],
        [
         "CONVERTED",
         "bool"
        ],
        [
         "CONVERTED_AT",
         "object"
        ],
        [
         "TRIAL_START",
         "object"
        ],
        [
         "TRIAL_END",
         "object"
        ]
       ],
       "shape": {
        "columns": 1,
        "rows": 7
       }
      },
      "text/plain": [
       "ORGANIZATION_ID    object\n",
       "ACTIVITY_NAME      object\n",
       "TIMESTAMP          object\n",
       "CONVERTED            bool\n",
       "CONVERTED_AT       object\n",
       "TRIAL_START        object\n",
       "TRIAL_END          object\n",
       "dtype: object"
      ]
     },
     "execution_count": 171,
     "metadata": {},
     "output_type": "execute_result"
    }
   ],
   "source": [
    "df.dtypes"
   ]
  },
  {
   "cell_type": "code",
   "execution_count": 172,
   "id": "6fe4d8d7",
   "metadata": {},
   "outputs": [
    {
     "data": {
      "application/vnd.microsoft.datawrangler.viewer.v0+json": {
       "columns": [
        {
         "name": "index",
         "rawType": "object",
         "type": "string"
        },
        {
         "name": "0",
         "rawType": "int64",
         "type": "integer"
        }
       ],
       "ref": "6a123b48-5ebf-40a0-bebc-413dafe008ee",
       "rows": [
        [
         "ORGANIZATION_ID",
         "170526"
        ],
        [
         "ACTIVITY_NAME",
         "170526"
        ],
        [
         "TIMESTAMP",
         "170526"
        ],
        [
         "CONVERTED",
         "170526"
        ],
        [
         "CONVERTED_AT",
         "34235"
        ],
        [
         "TRIAL_START",
         "170526"
        ],
        [
         "TRIAL_END",
         "170526"
        ]
       ],
       "shape": {
        "columns": 1,
        "rows": 7
       }
      },
      "text/plain": [
       "ORGANIZATION_ID    170526\n",
       "ACTIVITY_NAME      170526\n",
       "TIMESTAMP          170526\n",
       "CONVERTED          170526\n",
       "CONVERTED_AT        34235\n",
       "TRIAL_START        170526\n",
       "TRIAL_END          170526\n",
       "dtype: int64"
      ]
     },
     "execution_count": 172,
     "metadata": {},
     "output_type": "execute_result"
    }
   ],
   "source": [
    "df.count()"
   ]
  },
  {
   "cell_type": "code",
   "execution_count": 173,
   "id": "702887d6",
   "metadata": {},
   "outputs": [
    {
     "data": {
      "application/vnd.microsoft.datawrangler.viewer.v0+json": {
       "columns": [
        {
         "name": "index",
         "rawType": "object",
         "type": "string"
        },
        {
         "name": "0",
         "rawType": "int64",
         "type": "integer"
        }
       ],
       "ref": "75eab238-a159-41f4-ae25-1368ccf605ed",
       "rows": [
        [
         "ORGANIZATION_ID",
         "0"
        ],
        [
         "ACTIVITY_NAME",
         "0"
        ],
        [
         "TIMESTAMP",
         "0"
        ],
        [
         "CONVERTED",
         "0"
        ],
        [
         "CONVERTED_AT",
         "136291"
        ],
        [
         "TRIAL_START",
         "0"
        ],
        [
         "TRIAL_END",
         "0"
        ]
       ],
       "shape": {
        "columns": 1,
        "rows": 7
       }
      },
      "text/plain": [
       "ORGANIZATION_ID         0\n",
       "ACTIVITY_NAME           0\n",
       "TIMESTAMP               0\n",
       "CONVERTED               0\n",
       "CONVERTED_AT       136291\n",
       "TRIAL_START             0\n",
       "TRIAL_END               0\n",
       "dtype: int64"
      ]
     },
     "execution_count": 173,
     "metadata": {},
     "output_type": "execute_result"
    }
   ],
   "source": [
    "df.isna().sum()"
   ]
  },
  {
   "cell_type": "code",
   "execution_count": 174,
   "id": "19ccd292",
   "metadata": {},
   "outputs": [
    {
     "name": "stdout",
     "output_type": "stream",
     "text": [
      "Scheduling.Shift.Created\n",
      "Scheduling.Shift.AssignmentChanged\n",
      "Communication.Message.Created\n",
      "Mobile.Schedule.Loaded\n",
      "Absence.Request.Created\n",
      "Absence.Request.Approved\n",
      "Scheduling.Availability.Set\n",
      "Scheduling.Template.ApplyModal.Applied\n",
      "PunchClockStartNote.Add.Completed\n",
      "PunchClock.PunchedIn\n",
      "PunchClock.Entry.Edited\n",
      "Scheduling.Shift.Approved\n",
      "ShiftDetails.View.Opened\n",
      "Absence.Request.Rejected\n",
      "Scheduling.OpenShiftRequest.Created\n",
      "Scheduling.ShiftSwap.Created\n",
      "PunchClockEndNote.Add.Completed\n",
      "PunchClock.PunchedOut\n",
      "Integration.Xero.PayrollExport.Synced\n",
      "Timesheets.BulkApprove.Confirmed\n",
      "Scheduling.ShiftHandover.Created\n",
      "Scheduling.ShiftHandover.Accepted\n",
      "Revenue.Budgets.Created\n",
      "Break.Activate.Started\n",
      "Break.Activate.Finished\n",
      "Shift.View.Opened\n",
      "Scheduling.OpenShiftRequest.Approved\n",
      "Scheduling.ShiftSwap.Accepted\n"
     ]
    }
   ],
   "source": [
    "unique_activities = df[\"ACTIVITY_NAME\"].unique().tolist()\n",
    "for activity in unique_activities:\n",
    "    print(activity)"
   ]
  },
  {
   "cell_type": "code",
   "execution_count": 4,
   "id": "63989ff9",
   "metadata": {},
   "outputs": [
    {
     "data": {
      "application/vnd.microsoft.datawrangler.viewer.v0+json": {
       "columns": [
        {
         "name": "index",
         "rawType": "int64",
         "type": "integer"
        },
        {
         "name": "ORGANIZATION_ID",
         "rawType": "object",
         "type": "string"
        },
        {
         "name": "ACTIVITY_NAME",
         "rawType": "object",
         "type": "string"
        },
        {
         "name": "TIMESTAMP",
         "rawType": "object",
         "type": "string"
        },
        {
         "name": "CONVERTED",
         "rawType": "bool",
         "type": "boolean"
        },
        {
         "name": "CONVERTED_AT",
         "rawType": "object",
         "type": "unknown"
        },
        {
         "name": "TRIAL_START",
         "rawType": "object",
         "type": "string"
        },
        {
         "name": "TRIAL_END",
         "rawType": "object",
         "type": "string"
        }
       ],
       "ref": "0d7cbd2e-f2c3-4dd0-842e-1e9eaa64ab05",
       "rows": [
        [
         "0",
         "0040dd9ab132b92d5d04bc3acf14d2e2",
         "Scheduling.Shift.Created",
         "2024-03-27 11:03:53.000",
         "False",
         null,
         "2024-03-27 10:11:39.000",
         "2024-04-26 10:11:39.000"
        ],
        [
         "1",
         "0040dd9ab132b92d5d04bc3acf14d2e2",
         "Scheduling.Shift.Created",
         "2024-03-27 11:04:52.000",
         "False",
         null,
         "2024-03-27 10:11:39.000",
         "2024-04-26 10:11:39.000"
        ],
        [
         "2",
         "0040dd9ab132b92d5d04bc3acf14d2e2",
         "Scheduling.Shift.Created",
         "2024-03-27 11:04:53.000",
         "False",
         null,
         "2024-03-27 10:11:39.000",
         "2024-04-26 10:11:39.000"
        ],
        [
         "3",
         "0040dd9ab132b92d5d04bc3acf14d2e2",
         "Scheduling.Shift.Created",
         "2024-03-27 11:05:18.000",
         "False",
         null,
         "2024-03-27 10:11:39.000",
         "2024-04-26 10:11:39.000"
        ],
        [
         "4",
         "0040dd9ab132b92d5d04bc3acf14d2e2",
         "Scheduling.Shift.Created",
         "2024-03-27 11:06:00.000",
         "False",
         null,
         "2024-03-27 10:11:39.000",
         "2024-04-26 10:11:39.000"
        ]
       ],
       "shape": {
        "columns": 7,
        "rows": 5
       }
      },
      "text/html": [
       "<div>\n",
       "<style scoped>\n",
       "    .dataframe tbody tr th:only-of-type {\n",
       "        vertical-align: middle;\n",
       "    }\n",
       "\n",
       "    .dataframe tbody tr th {\n",
       "        vertical-align: top;\n",
       "    }\n",
       "\n",
       "    .dataframe thead th {\n",
       "        text-align: right;\n",
       "    }\n",
       "</style>\n",
       "<table border=\"1\" class=\"dataframe\">\n",
       "  <thead>\n",
       "    <tr style=\"text-align: right;\">\n",
       "      <th></th>\n",
       "      <th>ORGANIZATION_ID</th>\n",
       "      <th>ACTIVITY_NAME</th>\n",
       "      <th>TIMESTAMP</th>\n",
       "      <th>CONVERTED</th>\n",
       "      <th>CONVERTED_AT</th>\n",
       "      <th>TRIAL_START</th>\n",
       "      <th>TRIAL_END</th>\n",
       "    </tr>\n",
       "  </thead>\n",
       "  <tbody>\n",
       "    <tr>\n",
       "      <th>0</th>\n",
       "      <td>0040dd9ab132b92d5d04bc3acf14d2e2</td>\n",
       "      <td>Scheduling.Shift.Created</td>\n",
       "      <td>2024-03-27 11:03:53.000</td>\n",
       "      <td>False</td>\n",
       "      <td>NaN</td>\n",
       "      <td>2024-03-27 10:11:39.000</td>\n",
       "      <td>2024-04-26 10:11:39.000</td>\n",
       "    </tr>\n",
       "    <tr>\n",
       "      <th>1</th>\n",
       "      <td>0040dd9ab132b92d5d04bc3acf14d2e2</td>\n",
       "      <td>Scheduling.Shift.Created</td>\n",
       "      <td>2024-03-27 11:04:52.000</td>\n",
       "      <td>False</td>\n",
       "      <td>NaN</td>\n",
       "      <td>2024-03-27 10:11:39.000</td>\n",
       "      <td>2024-04-26 10:11:39.000</td>\n",
       "    </tr>\n",
       "    <tr>\n",
       "      <th>2</th>\n",
       "      <td>0040dd9ab132b92d5d04bc3acf14d2e2</td>\n",
       "      <td>Scheduling.Shift.Created</td>\n",
       "      <td>2024-03-27 11:04:53.000</td>\n",
       "      <td>False</td>\n",
       "      <td>NaN</td>\n",
       "      <td>2024-03-27 10:11:39.000</td>\n",
       "      <td>2024-04-26 10:11:39.000</td>\n",
       "    </tr>\n",
       "    <tr>\n",
       "      <th>3</th>\n",
       "      <td>0040dd9ab132b92d5d04bc3acf14d2e2</td>\n",
       "      <td>Scheduling.Shift.Created</td>\n",
       "      <td>2024-03-27 11:05:18.000</td>\n",
       "      <td>False</td>\n",
       "      <td>NaN</td>\n",
       "      <td>2024-03-27 10:11:39.000</td>\n",
       "      <td>2024-04-26 10:11:39.000</td>\n",
       "    </tr>\n",
       "    <tr>\n",
       "      <th>4</th>\n",
       "      <td>0040dd9ab132b92d5d04bc3acf14d2e2</td>\n",
       "      <td>Scheduling.Shift.Created</td>\n",
       "      <td>2024-03-27 11:06:00.000</td>\n",
       "      <td>False</td>\n",
       "      <td>NaN</td>\n",
       "      <td>2024-03-27 10:11:39.000</td>\n",
       "      <td>2024-04-26 10:11:39.000</td>\n",
       "    </tr>\n",
       "  </tbody>\n",
       "</table>\n",
       "</div>"
      ],
      "text/plain": [
       "                    ORGANIZATION_ID             ACTIVITY_NAME  \\\n",
       "0  0040dd9ab132b92d5d04bc3acf14d2e2  Scheduling.Shift.Created   \n",
       "1  0040dd9ab132b92d5d04bc3acf14d2e2  Scheduling.Shift.Created   \n",
       "2  0040dd9ab132b92d5d04bc3acf14d2e2  Scheduling.Shift.Created   \n",
       "3  0040dd9ab132b92d5d04bc3acf14d2e2  Scheduling.Shift.Created   \n",
       "4  0040dd9ab132b92d5d04bc3acf14d2e2  Scheduling.Shift.Created   \n",
       "\n",
       "                 TIMESTAMP  CONVERTED CONVERTED_AT              TRIAL_START  \\\n",
       "0  2024-03-27 11:03:53.000      False          NaN  2024-03-27 10:11:39.000   \n",
       "1  2024-03-27 11:04:52.000      False          NaN  2024-03-27 10:11:39.000   \n",
       "2  2024-03-27 11:04:53.000      False          NaN  2024-03-27 10:11:39.000   \n",
       "3  2024-03-27 11:05:18.000      False          NaN  2024-03-27 10:11:39.000   \n",
       "4  2024-03-27 11:06:00.000      False          NaN  2024-03-27 10:11:39.000   \n",
       "\n",
       "                 TRIAL_END  \n",
       "0  2024-04-26 10:11:39.000  \n",
       "1  2024-04-26 10:11:39.000  \n",
       "2  2024-04-26 10:11:39.000  \n",
       "3  2024-04-26 10:11:39.000  \n",
       "4  2024-04-26 10:11:39.000  "
      ]
     },
     "execution_count": 4,
     "metadata": {},
     "output_type": "execute_result"
    }
   ],
   "source": [
    "# Normalize column names\n",
    "df.columns = [c.strip().upper() for c in df.columns]\n",
    "df.head(5)"
   ]
  },
  {
   "cell_type": "code",
   "execution_count": 9,
   "id": "f9529aa1",
   "metadata": {},
   "outputs": [
    {
     "data": {
      "application/vnd.microsoft.datawrangler.viewer.v0+json": {
       "columns": [
        {
         "name": "index",
         "rawType": "int64",
         "type": "integer"
        },
        {
         "name": "ORGANIZATION_ID",
         "rawType": "object",
         "type": "string"
        },
        {
         "name": "ACTIVITY_NAME",
         "rawType": "object",
         "type": "string"
        },
        {
         "name": "TIMESTAMP",
         "rawType": "datetime64[ns]",
         "type": "datetime"
        },
        {
         "name": "CONVERTED",
         "rawType": "bool",
         "type": "boolean"
        },
        {
         "name": "CONVERTED_AT",
         "rawType": "datetime64[ns]",
         "type": "datetime"
        },
        {
         "name": "TRIAL_START",
         "rawType": "datetime64[ns]",
         "type": "datetime"
        },
        {
         "name": "TRIAL_END",
         "rawType": "datetime64[ns]",
         "type": "datetime"
        }
       ],
       "ref": "55d945f4-a41d-4202-99d6-cb55afae1f3d",
       "rows": [
        [
         "0",
         "0040dd9ab132b92d5d04bc3acf14d2e2",
         "Scheduling.Shift.Created",
         "2024-03-27 11:03:53",
         "False",
         null,
         "2024-03-27 10:11:39",
         "2024-04-26 10:11:39"
        ],
        [
         "1",
         "0040dd9ab132b92d5d04bc3acf14d2e2",
         "Scheduling.Shift.Created",
         "2024-03-27 11:04:52",
         "False",
         null,
         "2024-03-27 10:11:39",
         "2024-04-26 10:11:39"
        ],
        [
         "2",
         "0040dd9ab132b92d5d04bc3acf14d2e2",
         "Scheduling.Shift.Created",
         "2024-03-27 11:04:53",
         "False",
         null,
         "2024-03-27 10:11:39",
         "2024-04-26 10:11:39"
        ],
        [
         "3",
         "0040dd9ab132b92d5d04bc3acf14d2e2",
         "Scheduling.Shift.Created",
         "2024-03-27 11:05:18",
         "False",
         null,
         "2024-03-27 10:11:39",
         "2024-04-26 10:11:39"
        ],
        [
         "4",
         "0040dd9ab132b92d5d04bc3acf14d2e2",
         "Scheduling.Shift.Created",
         "2024-03-27 11:06:00",
         "False",
         null,
         "2024-03-27 10:11:39",
         "2024-04-26 10:11:39"
        ]
       ],
       "shape": {
        "columns": 7,
        "rows": 5
       }
      },
      "text/html": [
       "<div>\n",
       "<style scoped>\n",
       "    .dataframe tbody tr th:only-of-type {\n",
       "        vertical-align: middle;\n",
       "    }\n",
       "\n",
       "    .dataframe tbody tr th {\n",
       "        vertical-align: top;\n",
       "    }\n",
       "\n",
       "    .dataframe thead th {\n",
       "        text-align: right;\n",
       "    }\n",
       "</style>\n",
       "<table border=\"1\" class=\"dataframe\">\n",
       "  <thead>\n",
       "    <tr style=\"text-align: right;\">\n",
       "      <th></th>\n",
       "      <th>ORGANIZATION_ID</th>\n",
       "      <th>ACTIVITY_NAME</th>\n",
       "      <th>TIMESTAMP</th>\n",
       "      <th>CONVERTED</th>\n",
       "      <th>CONVERTED_AT</th>\n",
       "      <th>TRIAL_START</th>\n",
       "      <th>TRIAL_END</th>\n",
       "    </tr>\n",
       "  </thead>\n",
       "  <tbody>\n",
       "    <tr>\n",
       "      <th>0</th>\n",
       "      <td>0040dd9ab132b92d5d04bc3acf14d2e2</td>\n",
       "      <td>Scheduling.Shift.Created</td>\n",
       "      <td>2024-03-27 11:03:53</td>\n",
       "      <td>False</td>\n",
       "      <td>NaT</td>\n",
       "      <td>2024-03-27 10:11:39</td>\n",
       "      <td>2024-04-26 10:11:39</td>\n",
       "    </tr>\n",
       "    <tr>\n",
       "      <th>1</th>\n",
       "      <td>0040dd9ab132b92d5d04bc3acf14d2e2</td>\n",
       "      <td>Scheduling.Shift.Created</td>\n",
       "      <td>2024-03-27 11:04:52</td>\n",
       "      <td>False</td>\n",
       "      <td>NaT</td>\n",
       "      <td>2024-03-27 10:11:39</td>\n",
       "      <td>2024-04-26 10:11:39</td>\n",
       "    </tr>\n",
       "    <tr>\n",
       "      <th>2</th>\n",
       "      <td>0040dd9ab132b92d5d04bc3acf14d2e2</td>\n",
       "      <td>Scheduling.Shift.Created</td>\n",
       "      <td>2024-03-27 11:04:53</td>\n",
       "      <td>False</td>\n",
       "      <td>NaT</td>\n",
       "      <td>2024-03-27 10:11:39</td>\n",
       "      <td>2024-04-26 10:11:39</td>\n",
       "    </tr>\n",
       "    <tr>\n",
       "      <th>3</th>\n",
       "      <td>0040dd9ab132b92d5d04bc3acf14d2e2</td>\n",
       "      <td>Scheduling.Shift.Created</td>\n",
       "      <td>2024-03-27 11:05:18</td>\n",
       "      <td>False</td>\n",
       "      <td>NaT</td>\n",
       "      <td>2024-03-27 10:11:39</td>\n",
       "      <td>2024-04-26 10:11:39</td>\n",
       "    </tr>\n",
       "    <tr>\n",
       "      <th>4</th>\n",
       "      <td>0040dd9ab132b92d5d04bc3acf14d2e2</td>\n",
       "      <td>Scheduling.Shift.Created</td>\n",
       "      <td>2024-03-27 11:06:00</td>\n",
       "      <td>False</td>\n",
       "      <td>NaT</td>\n",
       "      <td>2024-03-27 10:11:39</td>\n",
       "      <td>2024-04-26 10:11:39</td>\n",
       "    </tr>\n",
       "  </tbody>\n",
       "</table>\n",
       "</div>"
      ],
      "text/plain": [
       "                    ORGANIZATION_ID             ACTIVITY_NAME  \\\n",
       "0  0040dd9ab132b92d5d04bc3acf14d2e2  Scheduling.Shift.Created   \n",
       "1  0040dd9ab132b92d5d04bc3acf14d2e2  Scheduling.Shift.Created   \n",
       "2  0040dd9ab132b92d5d04bc3acf14d2e2  Scheduling.Shift.Created   \n",
       "3  0040dd9ab132b92d5d04bc3acf14d2e2  Scheduling.Shift.Created   \n",
       "4  0040dd9ab132b92d5d04bc3acf14d2e2  Scheduling.Shift.Created   \n",
       "\n",
       "            TIMESTAMP  CONVERTED CONVERTED_AT         TRIAL_START  \\\n",
       "0 2024-03-27 11:03:53      False          NaT 2024-03-27 10:11:39   \n",
       "1 2024-03-27 11:04:52      False          NaT 2024-03-27 10:11:39   \n",
       "2 2024-03-27 11:04:53      False          NaT 2024-03-27 10:11:39   \n",
       "3 2024-03-27 11:05:18      False          NaT 2024-03-27 10:11:39   \n",
       "4 2024-03-27 11:06:00      False          NaT 2024-03-27 10:11:39   \n",
       "\n",
       "            TRIAL_END  \n",
       "0 2024-04-26 10:11:39  \n",
       "1 2024-04-26 10:11:39  \n",
       "2 2024-04-26 10:11:39  \n",
       "3 2024-04-26 10:11:39  \n",
       "4 2024-04-26 10:11:39  "
      ]
     },
     "execution_count": 9,
     "metadata": {},
     "output_type": "execute_result"
    }
   ],
   "source": [
    "for col in [\"TIMESTAMP\", \"CONVERTED_AT\", \"TRIAL_START\", \"TRIAL_END\"]:\n",
    "    df[col] = pd.to_datetime(df[col], format=\"%Y-%m-%d %H:%M:%S.%f\", errors=\"coerce\")\n",
    "df.head(5)"
   ]
  },
  {
   "cell_type": "code",
   "execution_count": 6,
   "id": "c5a99cb5",
   "metadata": {},
   "outputs": [
    {
     "data": {
      "application/vnd.microsoft.datawrangler.viewer.v0+json": {
       "columns": [
        {
         "name": "index",
         "rawType": "object",
         "type": "string"
        },
        {
         "name": "TIMESTAMP",
         "rawType": "object",
         "type": "unknown"
        },
        {
         "name": "CONVERTED_AT",
         "rawType": "object",
         "type": "unknown"
        },
        {
         "name": "TRIAL_START",
         "rawType": "object",
         "type": "unknown"
        },
        {
         "name": "TRIAL_END",
         "rawType": "object",
         "type": "unknown"
        }
       ],
       "ref": "34b1cefc-f667-4f76-8b95-a9e1ba8b96cf",
       "rows": [
        [
         "count",
         "170526",
         "34235",
         "170526",
         "170526"
        ],
        [
         "mean",
         "2024-03-01 03:55:17.990928128",
         "2024-03-15 04:45:07.682839296",
         "2024-02-17 20:55:27.597691904",
         "2024-03-18 20:55:27.597691904"
        ],
        [
         "min",
         "2024-01-01 20:52:26",
         "2024-01-26 00:39:07",
         "2024-01-01 15:21:50",
         "2024-01-31 15:21:50"
        ],
        [
         "25%",
         "2024-02-03 05:34:51",
         "2024-02-24 11:39:05",
         "2024-01-22 16:04:45",
         "2024-02-21 16:04:45"
        ],
        [
         "50%",
         "2024-03-05 13:33:58",
         "2024-03-19 22:07:32",
         "2024-02-22 02:00:58",
         "2024-03-23 02:00:58"
        ],
        [
         "75%",
         "2024-03-24 13:41:42.500000",
         "2024-04-04 09:37:41",
         "2024-03-13 14:15:09",
         "2024-04-12 14:15:09"
        ],
        [
         "max",
         "2024-04-28 15:10:31",
         "2024-05-10 13:51:28",
         "2024-03-30 21:01:15",
         "2024-04-29 21:01:15"
        ]
       ],
       "shape": {
        "columns": 4,
        "rows": 7
       }
      },
      "text/html": [
       "<div>\n",
       "<style scoped>\n",
       "    .dataframe tbody tr th:only-of-type {\n",
       "        vertical-align: middle;\n",
       "    }\n",
       "\n",
       "    .dataframe tbody tr th {\n",
       "        vertical-align: top;\n",
       "    }\n",
       "\n",
       "    .dataframe thead th {\n",
       "        text-align: right;\n",
       "    }\n",
       "</style>\n",
       "<table border=\"1\" class=\"dataframe\">\n",
       "  <thead>\n",
       "    <tr style=\"text-align: right;\">\n",
       "      <th></th>\n",
       "      <th>TIMESTAMP</th>\n",
       "      <th>CONVERTED_AT</th>\n",
       "      <th>TRIAL_START</th>\n",
       "      <th>TRIAL_END</th>\n",
       "    </tr>\n",
       "  </thead>\n",
       "  <tbody>\n",
       "    <tr>\n",
       "      <th>count</th>\n",
       "      <td>170526</td>\n",
       "      <td>34235</td>\n",
       "      <td>170526</td>\n",
       "      <td>170526</td>\n",
       "    </tr>\n",
       "    <tr>\n",
       "      <th>mean</th>\n",
       "      <td>2024-03-01 03:55:17.990928128</td>\n",
       "      <td>2024-03-15 04:45:07.682839296</td>\n",
       "      <td>2024-02-17 20:55:27.597691904</td>\n",
       "      <td>2024-03-18 20:55:27.597691904</td>\n",
       "    </tr>\n",
       "    <tr>\n",
       "      <th>min</th>\n",
       "      <td>2024-01-01 20:52:26</td>\n",
       "      <td>2024-01-26 00:39:07</td>\n",
       "      <td>2024-01-01 15:21:50</td>\n",
       "      <td>2024-01-31 15:21:50</td>\n",
       "    </tr>\n",
       "    <tr>\n",
       "      <th>25%</th>\n",
       "      <td>2024-02-03 05:34:51</td>\n",
       "      <td>2024-02-24 11:39:05</td>\n",
       "      <td>2024-01-22 16:04:45</td>\n",
       "      <td>2024-02-21 16:04:45</td>\n",
       "    </tr>\n",
       "    <tr>\n",
       "      <th>50%</th>\n",
       "      <td>2024-03-05 13:33:58</td>\n",
       "      <td>2024-03-19 22:07:32</td>\n",
       "      <td>2024-02-22 02:00:58</td>\n",
       "      <td>2024-03-23 02:00:58</td>\n",
       "    </tr>\n",
       "    <tr>\n",
       "      <th>75%</th>\n",
       "      <td>2024-03-24 13:41:42.500000</td>\n",
       "      <td>2024-04-04 09:37:41</td>\n",
       "      <td>2024-03-13 14:15:09</td>\n",
       "      <td>2024-04-12 14:15:09</td>\n",
       "    </tr>\n",
       "    <tr>\n",
       "      <th>max</th>\n",
       "      <td>2024-04-28 15:10:31</td>\n",
       "      <td>2024-05-10 13:51:28</td>\n",
       "      <td>2024-03-30 21:01:15</td>\n",
       "      <td>2024-04-29 21:01:15</td>\n",
       "    </tr>\n",
       "  </tbody>\n",
       "</table>\n",
       "</div>"
      ],
      "text/plain": [
       "                           TIMESTAMP                   CONVERTED_AT  \\\n",
       "count                         170526                          34235   \n",
       "mean   2024-03-01 03:55:17.990928128  2024-03-15 04:45:07.682839296   \n",
       "min              2024-01-01 20:52:26            2024-01-26 00:39:07   \n",
       "25%              2024-02-03 05:34:51            2024-02-24 11:39:05   \n",
       "50%              2024-03-05 13:33:58            2024-03-19 22:07:32   \n",
       "75%       2024-03-24 13:41:42.500000            2024-04-04 09:37:41   \n",
       "max              2024-04-28 15:10:31            2024-05-10 13:51:28   \n",
       "\n",
       "                         TRIAL_START                      TRIAL_END  \n",
       "count                         170526                         170526  \n",
       "mean   2024-02-17 20:55:27.597691904  2024-03-18 20:55:27.597691904  \n",
       "min              2024-01-01 15:21:50            2024-01-31 15:21:50  \n",
       "25%              2024-01-22 16:04:45            2024-02-21 16:04:45  \n",
       "50%              2024-02-22 02:00:58            2024-03-23 02:00:58  \n",
       "75%              2024-03-13 14:15:09            2024-04-12 14:15:09  \n",
       "max              2024-03-30 21:01:15            2024-04-29 21:01:15  "
      ]
     },
     "execution_count": 6,
     "metadata": {},
     "output_type": "execute_result"
    }
   ],
   "source": [
    "df.describe()"
   ]
  },
  {
   "cell_type": "code",
   "execution_count": 200,
   "id": "dc023003",
   "metadata": {},
   "outputs": [],
   "source": [
    "# Drop exact duplicate rows\n",
    "df.drop_duplicates(inplace=True)\n",
    "\n",
    "\n",
    "# Category mapping based on prefixes\n",
    "def activity_category(name: str) -> str:\n",
    "    if pd.isna(name):\n",
    "        return \"Unknown\"\n",
    "    s = str(name)\n",
    "    # Scheduling & Shifts\n",
    "    if s.startswith(\n",
    "        (\n",
    "            \"Scheduling.\",\n",
    "            \"Shift.\",\n",
    "            \"ShiftDetails.\",\n",
    "            \"Mobile.Schedule.\",\n",
    "            \"Scheduling.Template.\",\n",
    "            \"Scheduling.ShiftSwap.\",\n",
    "            \"Scheduling.ShiftHandover.\",\n",
    "            \"Scheduling.OpenShiftRequest.\",\n",
    "        )\n",
    "    ):\n",
    "        return \"Scheduling & Shifts\"\n",
    "    # Absence\n",
    "    if s.startswith(\"Absence.\"):\n",
    "        return \"Absence Management\"\n",
    "    # Time Tracking\n",
    "    if s.startswith(\n",
    "        (\n",
    "            \"PunchClock.\",\n",
    "            \"Break.Activate.\",\n",
    "            \"PunchClockStartNote.\",\n",
    "            \"PunchClockEndNote.\",\n",
    "            \"PunchClock.Entry.\",\n",
    "        )\n",
    "    ):\n",
    "        return \"Time Tracking\"\n",
    "    # Approvals & Payroll\n",
    "    if s.startswith(\n",
    "        (\n",
    "            \"Scheduling.Shift.Approved\",\n",
    "            \"Timesheets.BulkApprove.\",\n",
    "            \"Integration.Xero.PayrollExport.\",\n",
    "        )\n",
    "    ):\n",
    "        return \"Approvals & Payroll\"\n",
    "    # Financials\n",
    "    if s.startswith(\"Revenue.Budgets.\"):\n",
    "        return \"Financials\"\n",
    "    # Communication\n",
    "    if s.startswith(\"Communication.\"):\n",
    "        return \"Communication\"\n",
    "    return \"Other\"\n",
    "\n",
    "\n",
    "df[\"ACTIVITY_CATEGORY\"] = df[\"ACTIVITY_NAME\"].apply(activity_category)"
   ]
  },
  {
   "cell_type": "code",
   "execution_count": null,
   "id": "ab4d50e0",
   "metadata": {},
   "outputs": [],
   "source": [
    "# Flags events occurring within the trial period.\n",
    "df[\"IN_TRIAL_WINDOW\"] = (df[\"TIMESTAMP\"] >= df[\"TRIAL_START\"]) & (\n",
    "    df[\"TIMESTAMP\"] <= df[\"TRIAL_END\"]\n",
    ")\n",
    "# Basic quality flags\n",
    "df[\"HAS_TRIAL_DATES\"] = df[\"TRIAL_START\"].notna() & df[\"TRIAL_END\"].notna()\n",
    "df[\"HAS_TIMESTAMP\"] = df[\"TIMESTAMP\"].notna()"
   ]
  },
  {
   "cell_type": "code",
   "execution_count": 203,
   "id": "06707a8e",
   "metadata": {},
   "outputs": [
    {
     "data": {
      "application/vnd.microsoft.datawrangler.viewer.v0+json": {
       "columns": [
        {
         "name": "IN_TRIAL_WINDOW",
         "rawType": "bool",
         "type": "boolean"
        },
        {
         "name": "count",
         "rawType": "int64",
         "type": "integer"
        }
       ],
       "ref": "0a89f094-d6d8-44c2-9280-16355591ceae",
       "rows": [
        [
         "True",
         "102895"
        ]
       ],
       "shape": {
        "columns": 1,
        "rows": 1
       }
      },
      "text/plain": [
       "IN_TRIAL_WINDOW\n",
       "True    102895\n",
       "Name: count, dtype: int64"
      ]
     },
     "execution_count": 203,
     "metadata": {},
     "output_type": "execute_result"
    }
   ],
   "source": [
    "# Checks whether events occurred inside trial window or not\n",
    "df[\"IN_TRIAL_WINDOW\"].value_counts()"
   ]
  },
  {
   "cell_type": "code",
   "execution_count": null,
   "id": "7a1ab440",
   "metadata": {},
   "outputs": [
    {
     "data": {
      "application/vnd.microsoft.datawrangler.viewer.v0+json": {
       "columns": [
        {
         "name": "HAS_TIMESTAMP",
         "rawType": "bool",
         "type": "boolean"
        },
        {
         "name": "count",
         "rawType": "int64",
         "type": "integer"
        }
       ],
       "ref": "9d6cda96-e15a-4ab8-88c6-2fac0fc61aa2",
       "rows": [
        [
         "True",
         "102895"
        ]
       ],
       "shape": {
        "columns": 1,
        "rows": 1
       }
      },
      "text/plain": [
       "HAS_TIMESTAMP\n",
       "True    102895\n",
       "Name: count, dtype: int64"
      ]
     },
     "execution_count": 180,
     "metadata": {},
     "output_type": "execute_result"
    }
   ],
   "source": [
    "# Checks whether timestamps are present or not\n",
    "df[\"HAS_TIMESTAMP\"].value_counts()"
   ]
  },
  {
   "cell_type": "code",
   "execution_count": null,
   "id": "1715ca1e",
   "metadata": {},
   "outputs": [
    {
     "data": {
      "application/vnd.microsoft.datawrangler.viewer.v0+json": {
       "columns": [
        {
         "name": "HAS_TRIAL_DATES",
         "rawType": "bool",
         "type": "boolean"
        },
        {
         "name": "count",
         "rawType": "int64",
         "type": "integer"
        }
       ],
       "ref": "e3384761-5240-47d1-8e09-fce004762b11",
       "rows": [
        [
         "True",
         "102895"
        ]
       ],
       "shape": {
        "columns": 1,
        "rows": 1
       }
      },
      "text/plain": [
       "HAS_TRIAL_DATES\n",
       "True    102895\n",
       "Name: count, dtype: int64"
      ]
     },
     "execution_count": 181,
     "metadata": {},
     "output_type": "execute_result"
    }
   ],
   "source": [
    "# Checks whether trial start and end dates are present or not\n",
    "df[\"HAS_TRIAL_DATES\"].value_counts()"
   ]
  },
  {
   "cell_type": "code",
   "execution_count": 204,
   "id": "26c75b84",
   "metadata": {},
   "outputs": [
    {
     "data": {
      "application/vnd.microsoft.datawrangler.viewer.v0+json": {
       "columns": [
        {
         "name": "index",
         "rawType": "int64",
         "type": "integer"
        },
        {
         "name": "ORGANIZATION_ID",
         "rawType": "object",
         "type": "string"
        },
        {
         "name": "ACTIVITY_NAME",
         "rawType": "object",
         "type": "string"
        },
        {
         "name": "TIMESTAMP",
         "rawType": "datetime64[ns]",
         "type": "datetime"
        },
        {
         "name": "CONVERTED",
         "rawType": "bool",
         "type": "boolean"
        },
        {
         "name": "CONVERTED_AT",
         "rawType": "datetime64[ns]",
         "type": "datetime"
        },
        {
         "name": "TRIAL_START",
         "rawType": "datetime64[ns]",
         "type": "datetime"
        },
        {
         "name": "TRIAL_END",
         "rawType": "datetime64[ns]",
         "type": "datetime"
        },
        {
         "name": "ACTIVITY_CATEGORY",
         "rawType": "object",
         "type": "string"
        }
       ],
       "ref": "70d51380-506c-4d6c-8c61-12c8a5c1cb25",
       "rows": [
        [
         "0",
         "0040dd9ab132b92d5d04bc3acf14d2e2",
         "Scheduling.Shift.Created",
         "2024-03-27 11:03:53",
         "False",
         null,
         "2024-03-27 10:11:39",
         "2024-04-26 10:11:39",
         "Scheduling & Shifts"
        ],
        [
         "1",
         "0040dd9ab132b92d5d04bc3acf14d2e2",
         "Scheduling.Shift.Created",
         "2024-03-27 11:04:52",
         "False",
         null,
         "2024-03-27 10:11:39",
         "2024-04-26 10:11:39",
         "Scheduling & Shifts"
        ],
        [
         "2",
         "0040dd9ab132b92d5d04bc3acf14d2e2",
         "Scheduling.Shift.Created",
         "2024-03-27 11:04:53",
         "False",
         null,
         "2024-03-27 10:11:39",
         "2024-04-26 10:11:39",
         "Scheduling & Shifts"
        ],
        [
         "3",
         "0040dd9ab132b92d5d04bc3acf14d2e2",
         "Scheduling.Shift.Created",
         "2024-03-27 11:05:18",
         "False",
         null,
         "2024-03-27 10:11:39",
         "2024-04-26 10:11:39",
         "Scheduling & Shifts"
        ],
        [
         "4",
         "0040dd9ab132b92d5d04bc3acf14d2e2",
         "Scheduling.Shift.Created",
         "2024-03-27 11:06:00",
         "False",
         null,
         "2024-03-27 10:11:39",
         "2024-04-26 10:11:39",
         "Scheduling & Shifts"
        ]
       ],
       "shape": {
        "columns": 8,
        "rows": 5
       }
      },
      "text/html": [
       "<div>\n",
       "<style scoped>\n",
       "    .dataframe tbody tr th:only-of-type {\n",
       "        vertical-align: middle;\n",
       "    }\n",
       "\n",
       "    .dataframe tbody tr th {\n",
       "        vertical-align: top;\n",
       "    }\n",
       "\n",
       "    .dataframe thead th {\n",
       "        text-align: right;\n",
       "    }\n",
       "</style>\n",
       "<table border=\"1\" class=\"dataframe\">\n",
       "  <thead>\n",
       "    <tr style=\"text-align: right;\">\n",
       "      <th></th>\n",
       "      <th>ORGANIZATION_ID</th>\n",
       "      <th>ACTIVITY_NAME</th>\n",
       "      <th>TIMESTAMP</th>\n",
       "      <th>CONVERTED</th>\n",
       "      <th>CONVERTED_AT</th>\n",
       "      <th>TRIAL_START</th>\n",
       "      <th>TRIAL_END</th>\n",
       "      <th>ACTIVITY_CATEGORY</th>\n",
       "    </tr>\n",
       "  </thead>\n",
       "  <tbody>\n",
       "    <tr>\n",
       "      <th>0</th>\n",
       "      <td>0040dd9ab132b92d5d04bc3acf14d2e2</td>\n",
       "      <td>Scheduling.Shift.Created</td>\n",
       "      <td>2024-03-27 11:03:53</td>\n",
       "      <td>False</td>\n",
       "      <td>NaT</td>\n",
       "      <td>2024-03-27 10:11:39</td>\n",
       "      <td>2024-04-26 10:11:39</td>\n",
       "      <td>Scheduling &amp; Shifts</td>\n",
       "    </tr>\n",
       "    <tr>\n",
       "      <th>1</th>\n",
       "      <td>0040dd9ab132b92d5d04bc3acf14d2e2</td>\n",
       "      <td>Scheduling.Shift.Created</td>\n",
       "      <td>2024-03-27 11:04:52</td>\n",
       "      <td>False</td>\n",
       "      <td>NaT</td>\n",
       "      <td>2024-03-27 10:11:39</td>\n",
       "      <td>2024-04-26 10:11:39</td>\n",
       "      <td>Scheduling &amp; Shifts</td>\n",
       "    </tr>\n",
       "    <tr>\n",
       "      <th>2</th>\n",
       "      <td>0040dd9ab132b92d5d04bc3acf14d2e2</td>\n",
       "      <td>Scheduling.Shift.Created</td>\n",
       "      <td>2024-03-27 11:04:53</td>\n",
       "      <td>False</td>\n",
       "      <td>NaT</td>\n",
       "      <td>2024-03-27 10:11:39</td>\n",
       "      <td>2024-04-26 10:11:39</td>\n",
       "      <td>Scheduling &amp; Shifts</td>\n",
       "    </tr>\n",
       "    <tr>\n",
       "      <th>3</th>\n",
       "      <td>0040dd9ab132b92d5d04bc3acf14d2e2</td>\n",
       "      <td>Scheduling.Shift.Created</td>\n",
       "      <td>2024-03-27 11:05:18</td>\n",
       "      <td>False</td>\n",
       "      <td>NaT</td>\n",
       "      <td>2024-03-27 10:11:39</td>\n",
       "      <td>2024-04-26 10:11:39</td>\n",
       "      <td>Scheduling &amp; Shifts</td>\n",
       "    </tr>\n",
       "    <tr>\n",
       "      <th>4</th>\n",
       "      <td>0040dd9ab132b92d5d04bc3acf14d2e2</td>\n",
       "      <td>Scheduling.Shift.Created</td>\n",
       "      <td>2024-03-27 11:06:00</td>\n",
       "      <td>False</td>\n",
       "      <td>NaT</td>\n",
       "      <td>2024-03-27 10:11:39</td>\n",
       "      <td>2024-04-26 10:11:39</td>\n",
       "      <td>Scheduling &amp; Shifts</td>\n",
       "    </tr>\n",
       "  </tbody>\n",
       "</table>\n",
       "</div>"
      ],
      "text/plain": [
       "                    ORGANIZATION_ID             ACTIVITY_NAME  \\\n",
       "0  0040dd9ab132b92d5d04bc3acf14d2e2  Scheduling.Shift.Created   \n",
       "1  0040dd9ab132b92d5d04bc3acf14d2e2  Scheduling.Shift.Created   \n",
       "2  0040dd9ab132b92d5d04bc3acf14d2e2  Scheduling.Shift.Created   \n",
       "3  0040dd9ab132b92d5d04bc3acf14d2e2  Scheduling.Shift.Created   \n",
       "4  0040dd9ab132b92d5d04bc3acf14d2e2  Scheduling.Shift.Created   \n",
       "\n",
       "            TIMESTAMP  CONVERTED CONVERTED_AT         TRIAL_START  \\\n",
       "0 2024-03-27 11:03:53      False          NaT 2024-03-27 10:11:39   \n",
       "1 2024-03-27 11:04:52      False          NaT 2024-03-27 10:11:39   \n",
       "2 2024-03-27 11:04:53      False          NaT 2024-03-27 10:11:39   \n",
       "3 2024-03-27 11:05:18      False          NaT 2024-03-27 10:11:39   \n",
       "4 2024-03-27 11:06:00      False          NaT 2024-03-27 10:11:39   \n",
       "\n",
       "            TRIAL_END    ACTIVITY_CATEGORY  \n",
       "0 2024-04-26 10:11:39  Scheduling & Shifts  \n",
       "1 2024-04-26 10:11:39  Scheduling & Shifts  \n",
       "2 2024-04-26 10:11:39  Scheduling & Shifts  \n",
       "3 2024-04-26 10:11:39  Scheduling & Shifts  \n",
       "4 2024-04-26 10:11:39  Scheduling & Shifts  "
      ]
     },
     "execution_count": 204,
     "metadata": {},
     "output_type": "execute_result"
    }
   ],
   "source": [
    "# Removes temporary validation columns after confirming all values are correct\n",
    "df.drop(columns=[\"HAS_TRIAL_DATES\", \"IN_TRIAL_WINDOW\", \"HAS_TIMESTAMP\"], inplace=True)\n",
    "df.head(5)"
   ]
  },
  {
   "cell_type": "code",
   "execution_count": 183,
   "id": "9c7d6d73",
   "metadata": {},
   "outputs": [
    {
     "data": {
      "application/vnd.microsoft.datawrangler.viewer.v0+json": {
       "columns": [
        {
         "name": "CONVERTED_AT",
         "rawType": "datetime64[ns]",
         "type": "datetime"
        },
        {
         "name": "count",
         "rawType": "int64",
         "type": "integer"
        }
       ],
       "ref": "15d8eba6-bbe2-46fa-ae45-150e652b346f",
       "rows": [
        [
         "2024-03-19 22:07:32",
         "2794"
        ],
        [
         "2024-02-24 11:39:05",
         "2122"
        ],
        [
         "2024-04-04 09:37:41",
         "1675"
        ],
        [
         "2024-02-14 13:09:11",
         "1338"
        ],
        [
         "2024-04-09 17:04:15",
         "1101"
        ],
        [
         "2024-04-01 21:39:20",
         "818"
        ],
        [
         "2024-04-02 16:31:01",
         "775"
        ],
        [
         "2024-04-04 15:25:04",
         "760"
        ],
        [
         "2024-03-17 12:26:51",
         "711"
        ],
        [
         "2024-03-27 15:17:52",
         "686"
        ],
        [
         "2024-03-20 14:01:23",
         "471"
        ],
        [
         "2024-02-01 01:42:05",
         "463"
        ],
        [
         "2024-02-16 16:08:21",
         "442"
        ],
        [
         "2024-02-14 15:48:34",
         "440"
        ],
        [
         "2024-01-26 20:35:33",
         "424"
        ],
        [
         "2024-04-03 17:42:10",
         "422"
        ],
        [
         "2024-03-26 17:35:58",
         "370"
        ],
        [
         "2024-03-08 19:37:13",
         "368"
        ],
        [
         "2024-04-24 11:15:09",
         "350"
        ],
        [
         "2024-03-02 09:59:11",
         "342"
        ],
        [
         "2024-02-05 19:58:49",
         "295"
        ],
        [
         "2024-02-08 19:50:44",
         "275"
        ],
        [
         "2024-04-03 20:55:19",
         "209"
        ],
        [
         "2024-05-10 13:51:28",
         "196"
        ],
        [
         "2024-03-01 13:05:53",
         "188"
        ],
        [
         "2024-03-11 15:48:43",
         "181"
        ],
        [
         "2024-04-16 19:39:33",
         "176"
        ],
        [
         "2024-04-09 13:26:33",
         "173"
        ],
        [
         "2024-04-12 10:48:32",
         "166"
        ],
        [
         "2024-04-25 13:53:49",
         "157"
        ],
        [
         "2024-04-14 09:24:50",
         "155"
        ],
        [
         "2024-03-24 11:07:22",
         "151"
        ],
        [
         "2024-01-29 11:25:19",
         "144"
        ],
        [
         "2024-02-14 14:55:32",
         "143"
        ],
        [
         "2024-05-07 15:07:57",
         "133"
        ],
        [
         "2024-03-11 12:54:47",
         "123"
        ],
        [
         "2024-02-03 15:12:28",
         "107"
        ],
        [
         "2024-02-07 15:21:31",
         "92"
        ],
        [
         "2024-04-07 03:47:35",
         "91"
        ],
        [
         "2024-02-05 14:00:10",
         "89"
        ],
        [
         "2024-03-07 14:35:17",
         "88"
        ],
        [
         "2024-02-01 16:29:19",
         "86"
        ],
        [
         "2024-03-24 22:48:42",
         "85"
        ],
        [
         "2024-03-01 12:30:53",
         "75"
        ],
        [
         "2024-02-25 13:29:52",
         "72"
        ],
        [
         "2024-02-12 11:35:07",
         "64"
        ],
        [
         "2024-01-30 20:10:37",
         "62"
        ],
        [
         "2024-02-24 11:06:03",
         "60"
        ],
        [
         "2024-04-18 08:17:04",
         "56"
        ],
        [
         "2024-03-05 10:17:57",
         "54"
        ]
       ],
       "shape": {
        "columns": 1,
        "rows": 206
       }
      },
      "text/plain": [
       "CONVERTED_AT\n",
       "2024-03-19 22:07:32    2794\n",
       "2024-02-24 11:39:05    2122\n",
       "2024-04-04 09:37:41    1675\n",
       "2024-02-14 13:09:11    1338\n",
       "2024-04-09 17:04:15    1101\n",
       "                       ... \n",
       "2024-01-26 00:39:07       1\n",
       "2024-03-17 20:47:54       1\n",
       "2024-03-25 08:13:34       1\n",
       "2024-02-29 13:56:05       1\n",
       "2024-04-16 20:30:42       1\n",
       "Name: count, Length: 206, dtype: int64"
      ]
     },
     "execution_count": 183,
     "metadata": {},
     "output_type": "execute_result"
    }
   ],
   "source": [
    "df[\"CONVERTED_AT\"].value_counts()"
   ]
  },
  {
   "cell_type": "code",
   "execution_count": null,
   "id": "04b91a28",
   "metadata": {},
   "outputs": [
    {
     "data": {
      "application/vnd.microsoft.datawrangler.viewer.v0+json": {
       "columns": [
        {
         "name": "CONVERSION_REVERSED",
         "rawType": "bool",
         "type": "boolean"
        },
        {
         "name": "count",
         "rawType": "int64",
         "type": "integer"
        }
       ],
       "ref": "6a368ba5-6b86-448b-ad89-cc0945a926f6",
       "rows": [
        [
         "False",
         "966"
        ]
       ],
       "shape": {
        "columns": 1,
        "rows": 1
       }
      },
      "text/plain": [
       "CONVERSION_REVERSED\n",
       "False    966\n",
       "Name: count, dtype: int64"
      ]
     },
     "execution_count": 184,
     "metadata": {},
     "output_type": "execute_result"
    }
   ],
   "source": [
    "# Check if any organization was once marked as CONVERTED=True\n",
    "# and later had CONVERTED=False in a subsequent record.\n",
    "\n",
    "# Sort the dataframe by organization and timestamp to ensure chronological order\n",
    "df_sorted = df.sort_values([\"ORGANIZATION_ID\", \"TIMESTAMP\"])\n",
    "\n",
    "\n",
    "# Define a function to detect a conversion drop within an organization's history\n",
    "def has_conversion_drop(group):\n",
    "    converted_seen = False\n",
    "    for val in group:\n",
    "        if converted_seen and not val:\n",
    "            return True\n",
    "        if val:\n",
    "            converted_seen = True\n",
    "    return False\n",
    "\n",
    "\n",
    "# Apply the check to each organization's CONVERTED status\n",
    "conversion_reversal = (\n",
    "    df_sorted.groupby(\"ORGANIZATION_ID\")[\"CONVERTED\"]\n",
    "    .apply(has_conversion_drop)\n",
    "    .rename(\"CONVERSION_REVERSED\")\n",
    ")\n",
    "\n",
    "conversion_reversal.value_counts()"
   ]
  },
  {
   "cell_type": "code",
   "execution_count": 185,
   "id": "b001ae96",
   "metadata": {},
   "outputs": [
    {
     "data": {
      "application/vnd.microsoft.datawrangler.viewer.v0+json": {
       "columns": [
        {
         "name": "ORGANIZATION_ID",
         "rawType": "object",
         "type": "string"
        },
        {
         "name": "UNIQUE_CONVERTED_AT_COUNT",
         "rawType": "int64",
         "type": "integer"
        }
       ],
       "ref": "8a6569f5-1d4c-4b56-bb6d-742455f64082",
       "rows": [],
       "shape": {
        "columns": 1,
        "rows": 0
       }
      },
      "text/plain": [
       "Series([], Name: UNIQUE_CONVERTED_AT_COUNT, dtype: int64)"
      ]
     },
     "execution_count": 185,
     "metadata": {},
     "output_type": "execute_result"
    }
   ],
   "source": [
    "# Only look at orgs with at least one True in CONVERTED\n",
    "orgs_with_true = df.groupby(\"ORGANIZATION_ID\")[\"CONVERTED\"].any()\n",
    "\n",
    "# Filter df to only those orgs\n",
    "df_true_orgs = df[df[\"ORGANIZATION_ID\"].isin(orgs_with_true[orgs_with_true].index)]\n",
    "\n",
    "# Count unique CONVERTED_AT per org\n",
    "converted_at_counts = (\n",
    "    df_true_orgs.groupby(\"ORGANIZATION_ID\")[\"CONVERTED_AT\"]\n",
    "    .nunique()\n",
    "    .rename(\"UNIQUE_CONVERTED_AT_COUNT\")\n",
    ")\n",
    "\n",
    "# Check which have more than 1 unique CONVERTED_AT\n",
    "multiple_converted_at = converted_at_counts[converted_at_counts > 1]\n",
    "\n",
    "multiple_converted_at"
   ]
  },
  {
   "cell_type": "code",
   "execution_count": 205,
   "id": "d2566599",
   "metadata": {},
   "outputs": [
    {
     "data": {
      "application/vnd.microsoft.datawrangler.viewer.v0+json": {
       "columns": [
        {
         "name": "ORGANIZATION_ID",
         "rawType": "object",
         "type": "string"
        },
        {
         "name": "UNIQUE_TRIAL_START_COUNT",
         "rawType": "int64",
         "type": "integer"
        }
       ],
       "ref": "d548c1f3-21ed-4c6c-81bf-750186a81e01",
       "rows": [],
       "shape": {
        "columns": 1,
        "rows": 0
       }
      },
      "text/plain": [
       "Series([], Name: UNIQUE_TRIAL_START_COUNT, dtype: int64)"
      ]
     },
     "execution_count": 205,
     "metadata": {},
     "output_type": "execute_result"
    }
   ],
   "source": [
    "# Count unique TRIAL_START values per company\n",
    "trial_start_counts = (\n",
    "    df.groupby(\"ORGANIZATION_ID\")[\"TRIAL_START\"]\n",
    "    .nunique()\n",
    "    .rename(\"UNIQUE_TRIAL_START_COUNT\")\n",
    ")\n",
    "\n",
    "# Filter for companies with more than one unique TRIAL_START\n",
    "multiple_trial_start = trial_start_counts[trial_start_counts > 1]\n",
    "\n",
    "multiple_trial_start"
   ]
  },
  {
   "cell_type": "code",
   "execution_count": 187,
   "id": "e47ba604",
   "metadata": {},
   "outputs": [
    {
     "data": {
      "application/vnd.microsoft.datawrangler.viewer.v0+json": {
       "columns": [
        {
         "name": "ORGANIZATION_ID",
         "rawType": "object",
         "type": "string"
        },
        {
         "name": "CONVERTED_TRUE_COUNT",
         "rawType": "int64",
         "type": "integer"
        }
       ],
       "ref": "ebbab0b3-f82f-4a8f-9489-e9204e7ef9f4",
       "rows": [
        [
         "014f83e0deae3ac42041a126f1022974",
         "166"
        ],
        [
         "015f38565a692a85e2824e94926a12ef",
         "2122"
        ],
        [
         "01842569c6942b80bce161f32bbfd53d",
         "173"
        ],
        [
         "01f72f7e769498606ab1cc67d4869793",
         "196"
        ],
        [
         "0230aaa200a6c33b10c198297beb8478",
         "209"
        ],
        [
         "024847dac7c181bcb49c774b053ef892",
         "35"
        ],
        [
         "03f5b05fccdf685c1040367c49a93151",
         "27"
        ],
        [
         "04c356f5c28a5be4e1dea4065437393e",
         "4"
        ],
        [
         "04e2e1509ccf0a2bdaf1a965610037b1",
         "2"
        ],
        [
         "0588b52f2df79a1d8a5de80a572a06a1",
         "2"
        ],
        [
         "058fd32791e87b313be975cfd94ef7f7",
         "18"
        ],
        [
         "05c7dd78a740a557a3d8712fa28650a6",
         "1101"
        ],
        [
         "06181595fb8190647f6f6194dafddc34",
         "760"
        ],
        [
         "072463c6e1f2f4dfa7b3fc8b8662c60d",
         "6"
        ],
        [
         "0894a3826cb391f294318eabfc50be04",
         "24"
        ],
        [
         "0ad95b803b227a85a297fde00866fa31",
         "2"
        ],
        [
         "0b092b06694f39b64d9ab41817397cae",
         "3"
        ],
        [
         "0b43e2062db7744e4cd9c09a0244edd6",
         "2"
        ],
        [
         "0cf97f60d41f9541a845d32906633447",
         "12"
        ],
        [
         "0d02bb2571648071ed7e0be7e704ebef",
         "18"
        ],
        [
         "0d2be3642dea6a1e57c536d270eac202",
         "50"
        ],
        [
         "0d8da9666ef8de42203dad43ee5c6388",
         "188"
        ],
        [
         "0dbf285e3044094e4d546bb6ce8fb181",
         "88"
        ],
        [
         "0df55ae43f9a05203eb8f9356e014799",
         "72"
        ],
        [
         "0ebf7b6cf6e9f299726b0b2bea8c30f2",
         "2"
        ],
        [
         "102a8ffba698894f78141e7cf9ef54ed",
         "2"
        ],
        [
         "116bcb6cea55b48cab680f040f3c6801",
         "2"
        ],
        [
         "1180777060691d7c9eacb7b97f6c86e5",
         "10"
        ],
        [
         "11d58706814c10631552d477a23fc28d",
         "3"
        ],
        [
         "1279bfcdb5e7799cd2e1e51d6dbabe91",
         "6"
        ],
        [
         "127fba3ac06f26994937d9e13cae3753",
         "54"
        ],
        [
         "128a03366af7351689069354e647895d",
         "6"
        ],
        [
         "12cad8f0d207e677e18df1177804f417",
         "17"
        ],
        [
         "12e5d7b5bf806ab505f3e6e801d25919",
         "143"
        ],
        [
         "12ed7b7e84363bcfb31778d69276693b",
         "6"
        ],
        [
         "1306bdc9a5713828a932af80cf959621",
         "10"
        ],
        [
         "1358a214520fbf428bb48ee189076ef6",
         "46"
        ],
        [
         "1426c516be1c148f0c61300585009a50",
         "12"
        ],
        [
         "156e8fd102c92e5a04aa948c4917b747",
         "4"
        ],
        [
         "1580a0b6393fd7aafadfac175313e289",
         "3"
        ],
        [
         "1649d437531b551c061b25a2f2b98fd7",
         "2"
        ],
        [
         "170752f8898bd7366e8be55577f989d2",
         "1338"
        ],
        [
         "177e545194d330b2170b3cad48a0257f",
         "5"
        ],
        [
         "17b714b62c9a0a2317b063eec659368f",
         "18"
        ],
        [
         "17f21a709599972f399bb7659dd05996",
         "440"
        ],
        [
         "18104d3eed788ca3ad2a9fd8aa2a53b0",
         "21"
        ],
        [
         "18215f811c4a5b0400a14c9b82ad979d",
         "2"
        ],
        [
         "1a10cc977479b2226a5358ff13f0687a",
         "60"
        ],
        [
         "1a1ffaf6d1444aad83637aba91a5554b",
         "2"
        ],
        [
         "1a220a292104ae82c528dfac41a9cc29",
         "424"
        ]
       ],
       "shape": {
        "columns": 1,
        "rows": 177
       }
      },
      "text/plain": [
       "ORGANIZATION_ID\n",
       "014f83e0deae3ac42041a126f1022974     166\n",
       "015f38565a692a85e2824e94926a12ef    2122\n",
       "01842569c6942b80bce161f32bbfd53d     173\n",
       "01f72f7e769498606ab1cc67d4869793     196\n",
       "0230aaa200a6c33b10c198297beb8478     209\n",
       "                                    ... \n",
       "4ca121137053b1ee41b7a6be318a6366     775\n",
       "4ce5c089f29c4cb7ec42f02fe244bf43      32\n",
       "4d05b60096c72833c50bbb41d7904a17     370\n",
       "4e03db56b8cad5be5bf59fdac60a5af1    2794\n",
       "4e44f506184abb41230dca9183e0dfde     107\n",
       "Name: CONVERTED_TRUE_COUNT, Length: 177, dtype: int64"
      ]
     },
     "execution_count": 187,
     "metadata": {},
     "output_type": "execute_result"
    }
   ],
   "source": [
    "# Count how many times each org had CONVERTED = True\n",
    "multiple_conversions = (\n",
    "    df[df[\"CONVERTED\"] == True]  # only converted rows\n",
    "    .groupby(\"ORGANIZATION_ID\")\n",
    "    .size()\n",
    "    .rename(\"CONVERTED_TRUE_COUNT\")\n",
    ")\n",
    "\n",
    "# Filter for orgs with more than one \"True\"\n",
    "multiple_conversions = multiple_conversions[multiple_conversions > 1]\n",
    "\n",
    "multiple_conversions"
   ]
  },
  {
   "cell_type": "code",
   "execution_count": 188,
   "id": "de0315ba",
   "metadata": {},
   "outputs": [
    {
     "data": {
      "application/vnd.microsoft.datawrangler.viewer.v0+json": {
       "columns": [
        {
         "name": "index",
         "rawType": "object",
         "type": "string"
        },
        {
         "name": "0",
         "rawType": "object",
         "type": "unknown"
        }
       ],
       "ref": "03ac4d11-d61a-48b8-83e9-ad0b4a6f17a7",
       "rows": [
        [
         "ORGANIZATION_ID",
         "object"
        ],
        [
         "ACTIVITY_NAME",
         "object"
        ],
        [
         "TIMESTAMP",
         "datetime64[ns]"
        ],
        [
         "CONVERTED",
         "bool"
        ],
        [
         "CONVERTED_AT",
         "datetime64[ns]"
        ],
        [
         "TRIAL_START",
         "datetime64[ns]"
        ],
        [
         "TRIAL_END",
         "datetime64[ns]"
        ],
        [
         "ACTIVITY_CATEGORY",
         "object"
        ]
       ],
       "shape": {
        "columns": 1,
        "rows": 8
       }
      },
      "text/plain": [
       "ORGANIZATION_ID              object\n",
       "ACTIVITY_NAME                object\n",
       "TIMESTAMP            datetime64[ns]\n",
       "CONVERTED                      bool\n",
       "CONVERTED_AT         datetime64[ns]\n",
       "TRIAL_START          datetime64[ns]\n",
       "TRIAL_END            datetime64[ns]\n",
       "ACTIVITY_CATEGORY            object\n",
       "dtype: object"
      ]
     },
     "execution_count": 188,
     "metadata": {},
     "output_type": "execute_result"
    }
   ],
   "source": [
    "df.dtypes"
   ]
  },
  {
   "cell_type": "code",
   "execution_count": 189,
   "id": "a7b95f2a",
   "metadata": {},
   "outputs": [],
   "source": [
    "# Save a cleaned events dataset\n",
    "events_clean = df.copy()\n",
    "\n",
    "events_path = Path(\"Silver/events_clean.csv\")\n",
    "events_clean.to_csv(events_path, index=False)"
   ]
  },
  {
   "cell_type": "code",
   "execution_count": 190,
   "id": "634f0d60",
   "metadata": {},
   "outputs": [],
   "source": [
    "df = pd.read_csv(\n",
    "    events_path, parse_dates=[\"TIMESTAMP\", \"CONVERTED_AT\", \"TRIAL_START\", \"TRIAL_END\"]\n",
    ")"
   ]
  },
  {
   "cell_type": "code",
   "execution_count": 206,
   "id": "870efc27",
   "metadata": {},
   "outputs": [
    {
     "name": "stdout",
     "output_type": "stream",
     "text": [
      "count        206.0\n",
      "mean     30.271845\n",
      "std       8.207307\n",
      "min           14.0\n",
      "25%           25.0\n",
      "50%           30.0\n",
      "75%           36.0\n",
      "max           64.0\n",
      "Name: TIME_TO_CONVERT_DAYS, dtype: Float64\n",
      "Empty DataFrame\n",
      "Columns: [CONVERTED, CONVERTED_AT, TRIAL_START, TRIAL_END, EVENTS, TIME_TO_CONVERT_DAYS]\n",
      "Index: []\n"
     ]
    }
   ],
   "source": [
    "KEY_ACTIVITIES = [\n",
    "    \"Scheduling.Shift.Created\",\n",
    "    \"Scheduling.Template.ApplyModal.Applied\",\n",
    "    \"PunchClock.PunchedIn\",\n",
    "    \"Absence.Request.Created\",\n",
    "    \"Scheduling.Shift.Approved\",\n",
    "]\n",
    "# first activity timestamps by org\n",
    "first_event = df.groupby(\"ORGANIZATION_ID\")[\"TIMESTAMP\"].min().rename(\"FIRST_EVENT_AT\")\n",
    "# first key activity per org\n",
    "is_key = df[\"ACTIVITY_NAME\"].isin(KEY_ACTIVITIES)\n",
    "first_key = (\n",
    "    df.loc[is_key]\n",
    "    .groupby(\"ORGANIZATION_ID\")[\"TIMESTAMP\"]\n",
    "    .min()\n",
    "    .rename(\"FIRST_KEY_EVENT_AT\")\n",
    ")\n",
    "# conversion per org\n",
    "conv = df.groupby(\"ORGANIZATION_ID\").agg(\n",
    "    CONVERTED=(\"CONVERTED\", \"max\"),\n",
    "    CONVERTED_AT=(\"CONVERTED_AT\", \"max\"),\n",
    "    TRIAL_START=(\"TRIAL_START\", \"max\"),\n",
    "    TRIAL_END=(\"TRIAL_END\", \"max\"),\n",
    "    EVENTS=(\"TIMESTAMP\", \"count\"),\n",
    ")\n",
    "# Only calculate where both dates exist\n",
    "# Only calculate when both columns exist\n",
    "mask = conv[\"CONVERTED_AT\"].notna() & conv[\"TRIAL_START\"].notna()\n",
    "\n",
    "conv.loc[mask, \"TIME_TO_CONVERT_DAYS\"] = (\n",
    "    conv.loc[mask, \"CONVERTED_AT\"] - conv.loc[mask, \"TRIAL_START\"]\n",
    ").dt.days.astype(\n",
    "    \"Int64\"\n",
    ")  # integer days\n",
    "\n",
    "\n",
    "# Quick stats\n",
    "print(conv[\"TIME_TO_CONVERT_DAYS\"].describe())\n",
    "\n",
    "# Check unrealistic\n",
    "print(conv[(conv[\"TIME_TO_CONVERT_DAYS\"] < 0) | (conv[\"TIME_TO_CONVERT_DAYS\"] > 365)])\n",
    "\n",
    "\n",
    "# Active days overall and in week 1\n",
    "df[\"DATE\"] = df[\"TIMESTAMP\"].dt.date\n",
    "active_days = df.groupby(\"ORGANIZATION_ID\")[\"DATE\"].nunique().rename(\"ACTIVE_DAYS\")\n",
    "\n",
    "# Week 1 window\n",
    "df[\"DAYS_FROM_TRIAL_START\"] = (\n",
    "    df[\"TIMESTAMP\"] - df[\"TRIAL_START\"]\n",
    ").dt.total_seconds() / (3600 * 24)\n",
    "week1 = df[df[\"DAYS_FROM_TRIAL_START\"].between(0, 7, inclusive=\"both\")]\n",
    "active_days_w1 = (\n",
    "    week1.groupby(\"ORGANIZATION_ID\")[\"DATE\"].nunique().rename(\"ACTIVE_DAYS_WEEK1\")\n",
    ")\n",
    "events_w1 = week1.groupby(\"ORGANIZATION_ID\")[\"TIMESTAMP\"].count().rename(\"EVENTS_WEEK1\")\n",
    "# Merge summaries\n",
    "org_summary = conv.join(\n",
    "    [first_event, first_key, active_days, active_days_w1, events_w1]\n",
    ").reset_index()\n",
    "# Activation rate proxy: did org perform any key activity in week 1?\n",
    "w1_key = week1.assign(IS_KEY=week1[\"ACTIVITY_NAME\"].isin(KEY_ACTIVITIES))\n",
    "w1_key_flag = (\n",
    "    w1_key.groupby(\"ORGANIZATION_ID\")[\"IS_KEY\"].any().rename(\"ACTIVATED_IN_WEEK1\")\n",
    ")\n",
    "org_summary = org_summary.join(w1_key_flag, on=\"ORGANIZATION_ID\")\n",
    "\n",
    "# Category counts per org (for explainability in BI)\n",
    "cat_counts = (\n",
    "    df.groupby([\"ORGANIZATION_ID\", \"ACTIVITY_CATEGORY\"])\n",
    "    .size()\n",
    "    .reset_index(name=\"EVENTS_COUNT\")\n",
    ")"
   ]
  },
  {
   "cell_type": "code",
   "execution_count": 192,
   "id": "97b9f2e7",
   "metadata": {},
   "outputs": [],
   "source": [
    "org_summary_path = Path(\"Gold/org_summary.csv\")\n",
    "cat_counts_path = Path(\"Gold/activity_counts.csv\")\n",
    "org_summary.to_csv(org_summary_path, index=False)\n",
    "cat_counts.to_csv(cat_counts_path, index=False)"
   ]
  },
  {
   "cell_type": "code",
   "execution_count": null,
   "id": "960bdb56",
   "metadata": {},
   "outputs": [],
   "source": [
    "# Create a Date dimension for Power BI\n",
    "df = pd.read_csv(\n",
    "    \"Silver/events_clean.csv\", parse_dates=[\"TIMESTAMP\", \"TRIAL_START\", \"TRIAL_END\"]\n",
    ")\n",
    "\n",
    "min_date = min(df[\"TIMESTAMP\"].min(), df[\"TRIAL_START\"].min())\n",
    "max_date = max(df[\"TIMESTAMP\"].max(), df[\"TRIAL_END\"].max())\n",
    "\n",
    "date_range = pd.date_range(\n",
    "    start=min_date.normalize(), end=max_date.normalize(), freq=\"D\"\n",
    ")\n",
    "dim_date = pd.DataFrame({\"DATE\": date_range})\n",
    "dim_date[\"DATE_KEY\"] = dim_date[\"DATE\"].dt.strftime(\"%Y%m%d\").astype(int)\n",
    "dim_date[\"YEAR\"] = dim_date[\"DATE\"].dt.year\n",
    "dim_date[\"QUARTER\"] = dim_date[\"DATE\"].dt.quarter\n",
    "dim_date[\"MONTH\"] = dim_date[\"DATE\"].dt.month\n",
    "dim_date[\"MONTH_NAME\"] = dim_date[\"DATE\"].dt.month_name()\n",
    "dim_date[\"WEEK\"] = dim_date[\"DATE\"].dt.isocalendar().week.astype(int)\n",
    "dim_date[\"DOW\"] = dim_date[\"DATE\"].dt.dayofweek + 1  # 1=Mon\n",
    "dim_date[\"DAY\"] = dim_date[\"DATE\"].dt.day\n",
    "\n",
    "date_dim_path = Path(\"Gold/dim_date.csv\")\n",
    "dim_date.to_csv(date_dim_path, index=False)"
   ]
  },
  {
   "cell_type": "code",
   "execution_count": null,
   "id": "6a29c2b1",
   "metadata": {},
   "outputs": [],
   "source": [
    "df = pd.read_csv(\"Bronze/DA task.csv\")\n",
    "df[\"CONVERTED_AT\"] = pd.to_datetime(\n",
    "    df[\"CONVERTED_AT\"], format=\"%Y-%m-%d %H:%M:%S.%f\", errors=\"coerce\"\n",
    ")\n",
    "\n",
    "min_date = df[\"CONVERTED_AT\"].min()\n",
    "max_date = df[\"CONVERTED_AT\"].max()\n",
    "\n",
    "date_range = pd.date_range(\n",
    "    start=min_date.normalize(), end=max_date.normalize(), freq=\"D\"\n",
    ")\n",
    "dim_date = pd.DataFrame({\"DATE\": date_range})\n",
    "dim_date[\"DATE_KEY\"] = dim_date[\"DATE\"].dt.strftime(\"%Y%m%d\").astype(int)\n",
    "dim_date[\"YEAR\"] = dim_date[\"DATE\"].dt.year\n",
    "dim_date[\"QUARTER\"] = dim_date[\"DATE\"].dt.quarter\n",
    "dim_date[\"MONTH\"] = dim_date[\"DATE\"].dt.month\n",
    "dim_date[\"MONTH_NAME\"] = dim_date[\"DATE\"].dt.month_name()\n",
    "dim_date[\"WEEK\"] = dim_date[\"DATE\"].dt.isocalendar().week.astype(int)\n",
    "dim_date[\"DOW\"] = dim_date[\"DATE\"].dt.dayofweek + 1  # 1=Mon\n",
    "dim_date[\"DAY\"] = dim_date[\"DATE\"].dt.day\n",
    "\n",
    "date_dim_path = Path(\"Gold/dim_org_summary_date.csv\")\n",
    "dim_date.to_csv(date_dim_path, index=False)"
   ]
  },
  {
   "cell_type": "code",
   "execution_count": null,
   "id": "5eca5b0f",
   "metadata": {},
   "outputs": [],
   "source": []
  }
 ],
 "metadata": {
  "kernelspec": {
   "display_name": "PlandayEnv",
   "language": "python",
   "name": "python3"
  },
  "language_info": {
   "codemirror_mode": {
    "name": "ipython",
    "version": 3
   },
   "file_extension": ".py",
   "mimetype": "text/x-python",
   "name": "python",
   "nbconvert_exporter": "python",
   "pygments_lexer": "ipython3",
   "version": "3.12.10"
  }
 },
 "nbformat": 4,
 "nbformat_minor": 5
}
